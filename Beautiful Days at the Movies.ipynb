{
 "cells": [
  {
   "cell_type": "markdown",
   "metadata": {},
   "source": [
    "# Beautiful Days at the Movies"
   ]
  },
  {
   "cell_type": "code",
   "execution_count": 144,
   "metadata": {},
   "outputs": [
    {
     "name": "stdout",
     "output_type": "stream",
     "text": [
      "20 23 6\n",
      "2\n"
     ]
    }
   ],
   "source": [
    "#!/bin/python3\n",
    "\n",
    "import sys\n",
    "\n",
    "def beautifulDays(i, j, k):\n",
    "    count = 0\n",
    "    \n",
    "    for a in range(i, j+1):\n",
    "        if abs(a - int(str(a)[::-1])) % k == 0:\n",
    "            count = count + 1\n",
    "        else:\n",
    "            continue\n",
    "    return count\n",
    "\n",
    "if __name__ == \"__main__\":\n",
    "    i, j, k = input().strip().split(' ')\n",
    "    i, j, k = [int(i), int(j), int(k)]\n",
    "    result = beautifulDays(i, j, k)\n",
    "    print(result)"
   ]
  }
 ],
 "metadata": {
  "kernelspec": {
   "display_name": "Python 3",
   "language": "python",
   "name": "python3"
  },
  "language_info": {
   "codemirror_mode": {
    "name": "ipython",
    "version": 3
   },
   "file_extension": ".py",
   "mimetype": "text/x-python",
   "name": "python",
   "nbconvert_exporter": "python",
   "pygments_lexer": "ipython3",
   "version": "3.6.4"
  }
 },
 "nbformat": 4,
 "nbformat_minor": 2
}
