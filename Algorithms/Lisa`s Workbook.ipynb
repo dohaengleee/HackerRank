{
 "cells": [
  {
   "cell_type": "code",
   "execution_count": 1,
   "metadata": {},
   "outputs": [
    {
     "name": "stdout",
     "output_type": "stream",
     "text": [
      "5 3\n",
      "4 2 6 1 10\n",
      "4\n"
     ]
    }
   ],
   "source": [
    "def workbook(n, k, arr):\n",
    "    count = 0\n",
    "    chapter_num = 1\n",
    "    page_num = 1\n",
    "    problem_num = 1\n",
    "    \n",
    "    while chapter_num < n:\n",
    "        \n",
    "        if problem_num <= page_num and page_num <= min(problem_num + k - 1, arr[chapter_num]):\n",
    "            count += 1\n",
    "        page_num += 1\n",
    "        problem_num += k\n",
    "\n",
    "        if problem_num > arr[chapter_num]:\n",
    "            chapter_num += 1\n",
    "            problem_num = 1\n",
    "    \n",
    "    return count\n",
    "    \n",
    "if __name__ == '__main__':\n",
    "\n",
    "    nk = input().split()\n",
    "\n",
    "    n = int(nk[0])\n",
    "\n",
    "    k = int(nk[1])\n",
    "\n",
    "    arr = list(map(int, input().rstrip().split()))\n",
    "\n",
    "    result = workbook(n, k, arr)\n",
    "    \n",
    "    print(result)"
   ]
  }
 ],
 "metadata": {
  "kernelspec": {
   "display_name": "Python 3",
   "language": "python",
   "name": "python3"
  },
  "language_info": {
   "codemirror_mode": {
    "name": "ipython",
    "version": 3
   },
   "file_extension": ".py",
   "mimetype": "text/x-python",
   "name": "python",
   "nbconvert_exporter": "python",
   "pygments_lexer": "ipython3",
   "version": "3.6.4"
  }
 },
 "nbformat": 4,
 "nbformat_minor": 2
}
