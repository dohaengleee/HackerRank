{
 "cells": [
  {
   "cell_type": "markdown",
   "metadata": {},
   "source": [
    "# Library Fine"
   ]
  },
  {
   "cell_type": "code",
   "execution_count": 17,
   "metadata": {},
   "outputs": [
    {
     "name": "stdout",
     "output_type": "stream",
     "text": [
      "9 6 2015\n",
      "6 6 2015\n",
      "45\n"
     ]
    }
   ],
   "source": [
    "#!/bin/python3\n",
    "\n",
    "import sys\n",
    "\n",
    "def libraryFine(d1, m1, y1, d2, m2, y2):\n",
    "    if y1 < y2:\n",
    "        return 0\n",
    "    elif y1 > y2:\n",
    "        return (y1 - y2) * 10000\n",
    "    elif m1 < m2:\n",
    "        return 0\n",
    "    elif m1 > m2:\n",
    "        return (m1 - m2) * 500\n",
    "    elif d1 > d2:\n",
    "        return (d1 - d2) * 15\n",
    "    else:\n",
    "        return 0\n",
    "    \n",
    "if __name__ == \"__main__\":\n",
    "    d1, m1, y1 = input().strip().split(' ')\n",
    "    d1, m1, y1 = [int(d1), int(m1), int(y1)]\n",
    "    d2, m2, y2 = input().strip().split(' ')\n",
    "    d2, m2, y2 = [int(d2), int(m2), int(y2)]\n",
    "    result = libraryFine(d1, m1, y1, d2, m2, y2)\n",
    "    print(result)\n"
   ]
  }
 ],
 "metadata": {
  "kernelspec": {
   "display_name": "Python 3",
   "language": "python",
   "name": "python3"
  },
  "language_info": {
   "codemirror_mode": {
    "name": "ipython",
    "version": 3
   },
   "file_extension": ".py",
   "mimetype": "text/x-python",
   "name": "python",
   "nbconvert_exporter": "python",
   "pygments_lexer": "ipython3",
   "version": "3.6.4"
  }
 },
 "nbformat": 4,
 "nbformat_minor": 2
}
