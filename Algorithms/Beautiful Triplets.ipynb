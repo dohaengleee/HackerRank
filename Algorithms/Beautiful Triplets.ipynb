{
 "cells": [
  {
   "cell_type": "code",
   "execution_count": 2,
   "metadata": {},
   "outputs": [
    {
     "name": "stdout",
     "output_type": "stream",
     "text": [
      "7 3\n",
      "1 2 4 5 7 8 10\n",
      "3\n"
     ]
    }
   ],
   "source": [
    "import math\n",
    "import os\n",
    "import random\n",
    "import re\n",
    "import sys\n",
    "\n",
    "# Complete the beautifulTriplets function below.\n",
    "def beautifulTriplets(d, arr):\n",
    "    bd = 0\n",
    "    for i in range(n):\n",
    "        if arr[i] + d in arr and arr[i] + 2 * d in arr:\n",
    "            bd += 1\n",
    "    return bd\n",
    "\n",
    "if __name__ == '__main__':\n",
    "\n",
    "    nd = input().split()\n",
    "\n",
    "    n = int(nd[0])\n",
    "\n",
    "    d = int(nd[1])\n",
    "\n",
    "    arr = list(map(int, input().rstrip().split()))\n",
    "\n",
    "    result = beautifulTriplets(d, arr)\n",
    "    \n",
    "    print (result)"
   ]
  }
 ],
 "metadata": {
  "kernelspec": {
   "display_name": "Python 3",
   "language": "python",
   "name": "python3"
  }
 },
 "nbformat": 4,
 "nbformat_minor": 2
}
