{
 "cells": [
  {
   "cell_type": "code",
   "execution_count": 1,
   "metadata": {},
   "outputs": [
    {
     "name": "stdout",
     "output_type": "stream",
     "text": [
      "8 5\n",
      "2 3 1 2 3 2 3 3\n",
      "0 3\n",
      "4 6\n",
      "6 7\n",
      "3 5\n",
      "0 7\n",
      "[1, 2, 3, 2, 1]\n"
     ]
    }
   ],
   "source": [
    "def serviceLane(t, n, cases):\n",
    "    ls = []\n",
    "    \n",
    "    for i in range(t):\n",
    "        ls.append(min(width[cases[i][0]:cases[i][1]+1]))\n",
    "    \n",
    "    return ls\n",
    "if __name__ == '__main__':\n",
    "\n",
    "    nt = input().split()\n",
    "\n",
    "    n = int(nt[0])\n",
    "\n",
    "    t = int(nt[1])\n",
    "    \n",
    "    width = list(map(int, input().rstrip().split()))\n",
    "\n",
    "    cases = []\n",
    "\n",
    "    for _ in range(t):\n",
    "        cases.append(list(map(int, input().rstrip().split())))\n",
    "\n",
    "    result = serviceLane(t, n, cases)\n",
    "    \n",
    "    print(result)"
   ]
  }
 ],
 "metadata": {
  "kernelspec": {
   "display_name": "Python 3",
   "language": "python",
   "name": "python3"
  },
  "language_info": {
   "codemirror_mode": {
    "name": "ipython",
    "version": 3
   },
   "file_extension": ".py",
   "mimetype": "text/x-python",
   "name": "python",
   "nbconvert_exporter": "python",
   "pygments_lexer": "ipython3",
   "version": "3.6.4"
  }
 },
 "nbformat": 4,
 "nbformat_minor": 2
}
