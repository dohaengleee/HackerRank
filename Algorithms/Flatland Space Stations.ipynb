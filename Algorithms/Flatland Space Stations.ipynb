{
 "cells": [
  {
   "cell_type": "code",
   "execution_count": 2,
   "metadata": {},
   "outputs": [
    {
     "name": "stdout",
     "output_type": "stream",
     "text": [
      "5 2\n",
      "0 4\n",
      "2\n"
     ]
    }
   ],
   "source": [
    "# Complete the flatlandSpaceStations function below.\n",
    "def flatlandSpaceStations(n, c, m):\n",
    "    ls = [i for i in range(min(c), max(c)+1)]\n",
    "\n",
    "    ls.sort(reverse=False)\n",
    "    \n",
    "    ls2 = []\n",
    "\n",
    "    for i in range(min(c), len(c)):\n",
    "        if n == m:\n",
    "            ls2.append(0)\n",
    "        else:\n",
    "            tmp = c[i]\n",
    "            for j in range(min(c), n):\n",
    "                if abs(ls[j] - tmp) <= m:\n",
    "                    ls2.append(abs(ls[j] - tmp))\n",
    "    \n",
    "    return (max(ls2))\n",
    "                    \n",
    "if __name__ == '__main__':\n",
    "    \n",
    "    nm = input().split()\n",
    "\n",
    "    n = int(nm[0])\n",
    "\n",
    "    m = int(nm[1])\n",
    "\n",
    "    c = list(map(int, input().rstrip().split()))\n",
    "\n",
    "    result = flatlandSpaceStations(n, c, m)\n",
    "    \n",
    "    print(result)"
   ]
  }
 ],
 "metadata": {
  "kernelspec": {
   "display_name": "Python 3",
   "language": "python",
   "name": "python3"
  },
  "language_info": {
   "codemirror_mode": {
    "name": "ipython",
    "version": 3
   },
   "file_extension": ".py",
   "mimetype": "text/x-python",
   "name": "python",
   "nbconvert_exporter": "python",
   "pygments_lexer": "ipython3",
   "version": "3.6.4"
  }
 },
 "nbformat": 4,
 "nbformat_minor": 2
}
