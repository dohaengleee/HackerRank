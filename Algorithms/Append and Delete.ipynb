{
 "cells": [
  {
   "cell_type": "markdown",
   "metadata": {},
   "source": [
    "# Append and Delete"
   ]
  },
  {
   "cell_type": "code",
   "execution_count": 101,
   "metadata": {},
   "outputs": [
    {
     "name": "stdout",
     "output_type": "stream",
     "text": [
      "hackerhappy\n",
      "hackerrank\n",
      "9\n",
      "Yes\n"
     ]
    }
   ],
   "source": [
    "#!/bin/python3\n",
    "\n",
    "import sys\n",
    "\n",
    "def appendAndDelete(s, t, k):\n",
    "    ls = []\n",
    "    new_s = list(s)\n",
    "    new_t = list(t)\n",
    "\n",
    "    for i in range(len(new_t)):\n",
    "        if new_s[i] == new_t[i]:\n",
    "            ls.append(new_s[i])\n",
    "\n",
    "    if len(ls) <= k:\n",
    "        return \"Yes\"\n",
    "    else:\n",
    "        return \"No\"\n",
    "    \n",
    "if __name__ == \"__main__\":\n",
    "    s = input().strip()\n",
    "    t = input().strip()\n",
    "    k = int(input().strip())\n",
    "    result = appendAndDelete(s, t, k)\n",
    "    print(result)"
   ]
  }
 ],
 "metadata": {
  "kernelspec": {
   "display_name": "Python 3",
   "language": "python",
   "name": "python3"
  },
  "language_info": {
   "codemirror_mode": {
    "name": "ipython",
    "version": 3
   },
   "file_extension": ".py",
   "mimetype": "text/x-python",
   "name": "python",
   "nbconvert_exporter": "python",
   "pygments_lexer": "ipython3",
   "version": "3.6.4"
  }
 },
 "nbformat": 4,
 "nbformat_minor": 2
}
