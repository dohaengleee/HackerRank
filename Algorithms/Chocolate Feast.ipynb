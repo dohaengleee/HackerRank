{
 "cells": [
  {
   "cell_type": "code",
   "execution_count": 7,
   "metadata": {},
   "outputs": [
    {
     "name": "stdout",
     "output_type": "stream",
     "text": [
      "43203 60 5\n",
      "899\n"
     ]
    }
   ],
   "source": [
    "def chocolateFeast(n, c, m):\n",
    "    first_wrapper = n // c\n",
    "    wrapper = first_wrapper\n",
    "    \n",
    "    while (wrapper >= m):\n",
    "        first_wrapper = first_wrapper + wrapper // m\n",
    "        wrapper = wrapper % m + wrapper // m\n",
    "    \n",
    "    return first_wrapper\n",
    "\n",
    "if __name__ == '__main__':\n",
    "\n",
    "    ncm = input().split()\n",
    "\n",
    "    n = int(ncm[0])\n",
    "\n",
    "    c = int(ncm[1])\n",
    "\n",
    "    m = int(ncm[2])\n",
    "\n",
    "    result = chocolateFeast(n, c, m)\n",
    "\n",
    "    print (result)"
   ]
  }
 ],
 "metadata": {
  "kernelspec": {
   "display_name": "Python 3",
   "language": "python",
   "name": "python3"
  }
 },
 "nbformat": 4,
 "nbformat_minor": 2
}
