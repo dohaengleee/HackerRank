{
 "cells": [
  {
   "cell_type": "code",
   "execution_count": 57,
   "metadata": {},
   "outputs": [
    {
     "name": "stdout",
     "output_type": "stream",
     "text": [
      "20 3 6 80\n",
      "6\n"
     ]
    }
   ],
   "source": [
    "# Complete the howManyGames function below.\n",
    "def howManyGames(p, d, m, s):\n",
    "    count = 0\n",
    "    \n",
    "    while s >= 0:\n",
    "        s -= p\n",
    "        p = max(p - d, m)\n",
    "        count += 1\n",
    "        \n",
    "    return count - 1\n",
    "\n",
    "if __name__ == '__main__':\n",
    "\n",
    "    pdms = input().split()\n",
    "\n",
    "    p = int(pdms[0])\n",
    "\n",
    "    d = int(pdms[1])\n",
    "\n",
    "    m = int(pdms[2])\n",
    "\n",
    "    s = int(pdms[3])\n",
    "\n",
    "    answer = howManyGames(p, d, m, s)\n",
    "    print (answer)"
   ]
  }
 ],
 "metadata": {
  "kernelspec": {
   "display_name": "Python 3",
   "language": "python",
   "name": "python3"
  },
  "language_info": {
   "codemirror_mode": {
    "name": "ipython",
    "version": 3
   },
   "file_extension": ".py",
   "mimetype": "text/x-python",
   "name": "python",
   "nbconvert_exporter": "python",
   "pygments_lexer": "ipython3",
   "version": "3.6.4"
  }
 },
 "nbformat": 4,
 "nbformat_minor": 2
}
