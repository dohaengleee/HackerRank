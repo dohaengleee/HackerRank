{
 "cells": [
  {
   "cell_type": "code",
   "execution_count": 1,
   "metadata": {},
   "outputs": [
    {
     "name": "stdout",
     "output_type": "stream",
     "text": [
      "5\n",
      "2 3 4 5 6\n",
      "4\n"
     ]
    }
   ],
   "source": [
    "import math\n",
    "import os\n",
    "import random\n",
    "import re\n",
    "import sys\n",
    "\n",
    "def fairRations(B):\n",
    "    loaves = 0\n",
    "    isBuilding = False\n",
    "    previousIndex = 0\n",
    "\n",
    "    for i in range(len(B)):\n",
    "        if B[i] % 2 == 1:\n",
    "            if isBuilding :\n",
    "                loaves += (i - previousIndex) * 2\n",
    "                isBuilding = False\n",
    "            else:   \n",
    "                isBuilding = True\n",
    "                previousIndex = i\n",
    "\n",
    "    return \"NO\" if isBuilding else loaves\n",
    "\n",
    "if __name__ == '__main__':\n",
    "\n",
    "    N = int(input())\n",
    "\n",
    "    B = list(map(int, input().rstrip().split()))\n",
    "\n",
    "    result = fairRations(B)\n",
    "    \n",
    "    print(result)"
   ]
  }
 ],
 "metadata": {
  "kernelspec": {
   "display_name": "Python 3",
   "language": "python",
   "name": "python3"
  },
  "language_info": {
   "codemirror_mode": {
    "name": "ipython",
    "version": 3
   },
   "file_extension": ".py",
   "mimetype": "text/x-python",
   "name": "python",
   "nbconvert_exporter": "python",
   "pygments_lexer": "ipython3",
   "version": "3.6.4"
  }
 },
 "nbformat": 4,
 "nbformat_minor": 2
}
