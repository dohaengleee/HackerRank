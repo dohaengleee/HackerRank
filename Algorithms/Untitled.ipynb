{
 "cells": [
  {
   "cell_type": "code",
   "execution_count": null,
   "metadata": {},
   "outputs": [],
   "source": [
    "nm = input().split()\n",
    "\n",
    "n = int(nm[0])\n",
    "\n",
    "m = int(nm[1])\n",
    "\n",
    "c = list(map(int, input().rstrip().split()))\n",
    "\n",
    "ls = [i for i in range(0, n)]\n",
    "ls2 = []\n",
    "\n",
    "for i in range(1, len(c)):\n",
    "    for j in range(0, n):\n",
    "        if n == m:\n",
    "            ls2.append(0)\n",
    "        else:\n",
    "            tmp1 = abs(ls[j] - c[i-1])\n",
    "            tmp2 = abs(ls[j] - c[i])\n",
    "            if tmp1 == 0 or tmp2 == 0:\n",
    "                ls2.append(ls[j])\n",
    "            elif tmp1 == tmp2:\n",
    "                ls2.append(tmp1 - tmp2)\n",
    "            elif tmp1 < tmp2:\n",
    "                ls2.append(tmp1)\n",
    "            elif tmp1 > tmp2:\n",
    "                ls2.append(tmp2)\n",
    "\n",
    "ls\n",
    "\n",
    "c\n",
    "\n",
    "ls\n",
    "\n",
    "ls = [i for i in range(0, n)]\n",
    "c = sorted(c)\n",
    "ls2 = []\n",
    "\n",
    "for i in range(1, len(c)):\n",
    "    if n == m:\n",
    "        ls2.append(0)\n",
    "    else:\n",
    "        tmp = c[i-1]\n",
    "        for j in range(0, n):\n",
    "            if abs(ls[j] - tmp) <= c[i]:\n",
    "                ls2.append((ls[j] - tmp))\n",
    "\n",
    "ls\n",
    "\n",
    "sorted(c, reverse=False)\n",
    "\n",
    "ls2"
   ]
  }
 ],
 "metadata": {
  "kernelspec": {
   "display_name": "Python 3",
   "language": "python",
   "name": "python3"
  },
  "language_info": {
   "codemirror_mode": {
    "name": "ipython",
    "version": 3
   },
   "file_extension": ".py",
   "mimetype": "text/x-python",
   "name": "python",
   "nbconvert_exporter": "python",
   "pygments_lexer": "ipython3",
   "version": "3.6.4"
  }
 },
 "nbformat": 4,
 "nbformat_minor": 2
}
