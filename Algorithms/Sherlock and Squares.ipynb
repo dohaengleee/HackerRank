{
 "cells": [
  {
   "cell_type": "markdown",
   "metadata": {},
   "source": [
    "# Sherlock and Squares"
   ]
  },
  {
   "cell_type": "code",
   "execution_count": 152,
   "metadata": {},
   "outputs": [
    {
     "name": "stdout",
     "output_type": "stream",
     "text": [
      "2\n",
      "3 9\n",
      "2\n",
      "17 24\n",
      "0\n"
     ]
    }
   ],
   "source": [
    "#!/bin/python3\n",
    "\n",
    "import sys, math\n",
    "\n",
    "def squares(a, b):\n",
    "    # if a <= 1:\n",
    "    #     return int(math.sqrt(b)) - int(math.sqrt(a)) + 1\n",
    "    # elif a == b:\n",
    "    #     return int(math.sqrt(b)) - int(math.sqrt(a)) + 1\n",
    "    # else:\n",
    "    #     return int(math.sqrt(b)) - int(math.sqrt(a))\n",
    "    return int(math.sqrt(b)) - int(math.sqrt(a-1))\n",
    "\n",
    "if __name__ == \"__main__\":\n",
    "    q = int(input().strip())\n",
    "    for a0 in range(q):\n",
    "        a, b = input().strip().split(' ')\n",
    "        a, b = [int(a), int(b)]\n",
    "        result = squares(a, b)\n",
    "        print(result)"
   ]
  }
 ],
 "metadata": {
  "kernelspec": {
   "display_name": "Python 3",
   "language": "python",
   "name": "python3"
  },
  "language_info": {
   "codemirror_mode": {
    "name": "ipython",
    "version": 3
   },
   "file_extension": ".py",
   "mimetype": "text/x-python",
   "name": "python",
   "nbconvert_exporter": "python",
   "pygments_lexer": "ipython3",
   "version": "3.6.4"
  }
 },
 "nbformat": 4,
 "nbformat_minor": 2
}
