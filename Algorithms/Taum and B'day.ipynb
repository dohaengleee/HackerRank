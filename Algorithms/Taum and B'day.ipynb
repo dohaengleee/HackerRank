{
 "cells": [
  {
   "cell_type": "code",
   "execution_count": null,
   "metadata": {},
   "outputs": [],
   "source": [
    "#\n",
    "# Complete the taumBday function below.\n",
    "#\n",
    "def taumBday(b, w, bc, wc, z):\n",
    "    #\n",
    "    # Write your code here.\n",
    "    #\n",
    "\n",
    "if __name__ == '__main__':\n",
    "    fptr = open(os.environ['OUTPUT_PATH'], 'w')\n",
    "\n",
    "    t = int(input())\n",
    "\n",
    "    for t_itr in range(t):\n",
    "        bw = input().split()\n",
    "\n",
    "        b = int(bw[0])\n",
    "\n",
    "        w = int(bw[1])\n",
    "\n",
    "        bcWcz = input().split()\n",
    "\n",
    "        bc = int(bcWcz[0])\n",
    "\n",
    "        wc = int(bcWcz[1])\n",
    "\n",
    "        z = int(bcWcz[2])\n",
    "\n",
    "        result = taumBday(b, w, bc, wc, z)\n",
    "\n",
    "        fptr.write(str(result) + '\\n')\n",
    "\n",
    "    fptr.close()"
   ]
  },
  {
   "cell_type": "code",
   "execution_count": null,
   "metadata": {},
   "outputs": [],
   "source": []
  }
 ],
 "metadata": {
  "kernelspec": {
   "display_name": "Python 3",
   "language": "python",
   "name": "python3"
  },
  "language_info": {
   "codemirror_mode": {
    "name": "ipython",
    "version": 3
   },
   "file_extension": ".py",
   "mimetype": "text/x-python",
   "name": "python",
   "nbconvert_exporter": "python",
   "pygments_lexer": "ipython3",
   "version": "3.6.4"
  }
 },
 "nbformat": 4,
 "nbformat_minor": 2
}
