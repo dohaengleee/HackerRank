{
 "cells": [
  {
   "cell_type": "code",
   "execution_count": 1,
   "metadata": {},
   "outputs": [
    {
     "name": "stdout",
     "output_type": "stream",
     "text": [
      "7\n",
      "15\n",
      "quarter past seven\n"
     ]
    }
   ],
   "source": [
    "def timeInWords(h, m):\n",
    "    hour_ls = [\"one\",\n",
    "        \"two\",\n",
    "        \"three\",\n",
    "        \"four\",\n",
    "        \"five\",\n",
    "        \"six\",\n",
    "        \"seven\",\n",
    "        \"eight\",\n",
    "        \"nine\",\n",
    "        \"ten\",\n",
    "        \"eleven\",\n",
    "        \"twelve\",]\n",
    "\n",
    "    minute_ls = [ \"zero\", \n",
    "            \"one\",\n",
    "            \"two\",\n",
    "            \"three\",\n",
    "            \"four\",\n",
    "            \"five\",\n",
    "            \"six\",\n",
    "            \"seven\",\n",
    "            \"eight\",\n",
    "            \"nine\",\n",
    "            \"ten\",\n",
    "            \"eleven\",\n",
    "            \"twelve\",\n",
    "            \"thirteen\",\n",
    "            \"fourteen\",\n",
    "            \"fifteen\",\n",
    "            \"sixteen\",\n",
    "            \"seventeen\",\n",
    "            \"eighteen\",\n",
    "            \"nineteen\",\n",
    "            \"twenty\",\n",
    "            \"twenty one\",\n",
    "            \"twenty two\",\n",
    "            \"twenty three\",\n",
    "            \"twenty four\",\n",
    "            \"twenty five\",\n",
    "            \"twenty six\",\n",
    "            \"twenty seven\",\n",
    "            \"twenty eight\",\n",
    "            \"twenty nine\"]\n",
    "    if m == 0:\n",
    "        return (hour_ls[h-1] + \" o\\' clock\")\n",
    "    \n",
    "    elif m == 1:\n",
    "        return  (minute_ls[m] + \" minute past \" + hour_ls[h - 1])\n",
    "    \n",
    "    elif m == 15:\n",
    "        return (\"quarter past \" + hour_ls[h - 1])\n",
    "    \n",
    "    elif m == 30:\n",
    "        return (\"half past \" + hour_ls[h - 1])\n",
    "    \n",
    "    elif 1 < m <= 30:\n",
    "        return  (minute_ls[m] + \" minutes past \" + hour_ls[h - 1])\n",
    "\n",
    "    elif m == 45:\n",
    "        return (\"quarter to \" + hour_ls[h])\n",
    "    \n",
    "    elif m > 30:\n",
    "        return (minute_ls[60 - m] + \" minutes to \" + hour_ls[h])\n",
    "if __name__ == '__main__':\n",
    "\n",
    "    h = int(input())\n",
    "\n",
    "    m = int(input())\n",
    "\n",
    "    result = timeInWords(h, m)\n",
    "    \n",
    "    print(result)"
   ]
  }
 ],
 "metadata": {
  "kernelspec": {
   "display_name": "Python 3",
   "language": "python",
   "name": "python3"
  },
  "language_info": {
   "codemirror_mode": {
    "name": "ipython",
    "version": 3
   },
   "file_extension": ".py",
   "mimetype": "text/x-python",
   "name": "python",
   "nbconvert_exporter": "python",
   "pygments_lexer": "ipython3",
   "version": "3.6.4"
  }
 },
 "nbformat": 4,
 "nbformat_minor": 2
}
