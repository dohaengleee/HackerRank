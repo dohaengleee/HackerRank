{
 "cells": [
  {
   "cell_type": "code",
   "execution_count": 1,
   "metadata": {},
   "outputs": [
    {
     "name": "stdout",
     "output_type": "stream",
     "text": [
      "1\n",
      "100\n",
      "1 9 45 55 99\n"
     ]
    }
   ],
   "source": [
    "#!/bin/python3\n",
    "\n",
    "import sys\n",
    "\n",
    "def kaprekarNumbers(p, q):\n",
    "    ls = []\n",
    "    while p <= q:\n",
    "        d = len(str(p))\n",
    "        p_square = p ** 2\n",
    "        divide_left_right = str(p_square)\n",
    "        if p == 1:\n",
    "            ls.append(p)\n",
    "        elif p > 3:\n",
    "            if len(divide_left_right) % 2 == 0:\n",
    "                if divide_left_right[:2] != '10':\n",
    "                    left = divide_left_right[:d]\n",
    "                    right = divide_left_right[d:]\n",
    "                    sum_left_right = int(left) + int(right)\n",
    "                    if p == sum_left_right:\n",
    "                        ls.append(p)\n",
    "            else:\n",
    "                if divide_left_right[:2] != '10':\n",
    "                    left = divide_left_right[:d-1]\n",
    "                    right = divide_left_right[d-1:]\n",
    "                    sum_left_right = int(left) + int(right)\n",
    "                    if p == sum_left_right:\n",
    "                        ls.append(p)\n",
    "        p += 1\n",
    "    if len(ls) >= 1:\n",
    "        return ls\n",
    "    else:\n",
    "        return \"INVALID RANGE\"\n",
    "if __name__ == \"__main__\":\n",
    "    p = int(input().strip())\n",
    "    q = int(input().strip())\n",
    "    result = kaprekarNumbers(p, q)\n",
    "    print (\" \".join(map(str, result)))"
   ]
  }
 ],
 "metadata": {
  "kernelspec": {
   "display_name": "Python 3",
   "language": "python",
   "name": "python3"
  },
  "language_info": {
   "codemirror_mode": {
    "name": "ipython",
    "version": 3
   },
   "file_extension": ".py",
   "mimetype": "text/x-python",
   "name": "python",
   "nbconvert_exporter": "python",
   "pygments_lexer": "ipython3",
   "version": "3.6.4"
  }
 },
 "nbformat": 4,
 "nbformat_minor": 2
}
