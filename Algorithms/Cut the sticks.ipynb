{
 "cells": [
  {
   "cell_type": "markdown",
   "metadata": {},
   "source": [
    "# Cut the sticks"
   ]
  },
  {
   "cell_type": "code",
   "execution_count": 183,
   "metadata": {},
   "outputs": [
    {
     "name": "stdout",
     "output_type": "stream",
     "text": [
      "6\n",
      "5 4 4 2 2 8\n",
      "6\n",
      "4\n",
      "2\n",
      "1\n"
     ]
    }
   ],
   "source": [
    "#!/bin/python3\n",
    "\n",
    "import sys\n",
    "\n",
    "def cutTheSticks(arr):\n",
    "    arr.sort(reverse=True)\n",
    "    \n",
    "    while len(arr) > 0:\n",
    "        print (len(arr))\n",
    "        block_cut = arr.pop()\n",
    "        while len(arr) > 0 and arr[-1] <= block_cut:\n",
    "            arr.pop()\n",
    "            \n",
    "if __name__ == \"__main__\":\n",
    "    n = int(input().strip())\n",
    "    arr = list(map(int, input().strip().split(' ')))\n",
    "    result = cutTheSticks(arr)\n",
    "    \n",
    "\n",
    "\n"
   ]
  }
 ],
 "metadata": {
  "kernelspec": {
   "display_name": "Python 3",
   "language": "python",
   "name": "python3"
  },
  "language_info": {
   "codemirror_mode": {
    "name": "ipython",
    "version": 3
   },
   "file_extension": ".py",
   "mimetype": "text/x-python",
   "name": "python",
   "nbconvert_exporter": "python",
   "pygments_lexer": "ipython3",
   "version": "3.6.4"
  }
 },
 "nbformat": 4,
 "nbformat_minor": 2
}
